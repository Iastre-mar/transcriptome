{
 "cells": [
  {
   "cell_type": "code",
   "execution_count": 1,
   "metadata": {},
   "outputs": [],
   "source": [
    "import pandas as pd"
   ]
  },
  {
   "cell_type": "code",
   "execution_count": 2,
   "metadata": {},
   "outputs": [],
   "source": [
    "table = pd.read_excel('glioma_studies.xlsx')\n",
    "# Таблица"
   ]
  },
  {
   "cell_type": "code",
   "execution_count": 4,
   "metadata": {},
   "outputs": [
    {
     "data": {
      "text/plain": [
       "Index(['Generic Drug Name', 'Drug Names', 'Summary', 'Global Status',\n",
       "       'Development Status', 'Drug Disease', 'Company',\n",
       "       'Originator / Licensee', 'Company HQ Country', 'Company HQ State',\n",
       "       'Company (Subsidiary/Acquiree)',\n",
       "       'Company (Subsidiary/Acquiree) HQ Country',\n",
       "       'Company (Subsidiary/Acquiree) HQ State', 'Drug Country',\n",
       "       'Drug Country Region', 'Current Status', 'Launch Year',\n",
       "       'Highest Status Reached', 'Partnering Availability: Country',\n",
       "       'Latest Change Date', 'Latest Change', 'Event Date', 'Event Type',\n",
       "       'Event Details', 'Therapeutic Class', 'Therapeutic Class Status',\n",
       "       'Mechanism Of Action', 'Delivery Route', 'Delivery Medium',\n",
       "       'Delivery Technology', 'Target', 'Target Entrez Gene ID',\n",
       "       'Target Family', 'Target EC Number', 'Trialtrove Trial Count', 'Origin',\n",
       "       'NCE', 'Molecular Weight', 'Chemical Name',\n",
       "       'Chemical structure (SMILES format)', 'Molecular Formula', 'CAS Number',\n",
       "       'LogP', 'H Bond Donors', 'H Bond Acceptors', 'Rotatable Bonds',\n",
       "       'Patent Number', 'Patent Priority Country & Date', 'Marketing',\n",
       "       'Licensing', 'Phase III', 'Phase II', 'Phase I', 'Preclinical',\n",
       "       'Record URL'],\n",
       "      dtype='object')"
      ]
     },
     "execution_count": 4,
     "metadata": {},
     "output_type": "execute_result"
    }
   ],
   "source": [
    "table.columns\n",
    "# Название колонок в таблице"
   ]
  },
  {
   "cell_type": "code",
   "execution_count": 28,
   "metadata": {},
   "outputs": [
    {
     "data": {
      "text/html": [
       "<div>\n",
       "<style scoped>\n",
       "    .dataframe tbody tr th:only-of-type {\n",
       "        vertical-align: middle;\n",
       "    }\n",
       "\n",
       "    .dataframe tbody tr th {\n",
       "        vertical-align: top;\n",
       "    }\n",
       "\n",
       "    .dataframe thead th {\n",
       "        text-align: right;\n",
       "    }\n",
       "</style>\n",
       "<table border=\"1\" class=\"dataframe\">\n",
       "  <thead>\n",
       "    <tr style=\"text-align: right;\">\n",
       "      <th></th>\n",
       "      <th>Generic Drug Name</th>\n",
       "      <th>Drug Names</th>\n",
       "      <th>Summary</th>\n",
       "      <th>Global Status</th>\n",
       "      <th>Development Status</th>\n",
       "      <th>Drug Disease</th>\n",
       "      <th>Company</th>\n",
       "      <th>Originator / Licensee</th>\n",
       "      <th>Company HQ Country</th>\n",
       "      <th>Company HQ State</th>\n",
       "      <th>...</th>\n",
       "      <th>Rotatable Bonds</th>\n",
       "      <th>Patent Number</th>\n",
       "      <th>Patent Priority Country &amp; Date</th>\n",
       "      <th>Marketing</th>\n",
       "      <th>Licensing</th>\n",
       "      <th>Phase III</th>\n",
       "      <th>Phase II</th>\n",
       "      <th>Phase I</th>\n",
       "      <th>Preclinical</th>\n",
       "      <th>Record URL</th>\n",
       "    </tr>\n",
       "  </thead>\n",
       "  <tbody>\n",
       "    <tr>\n",
       "      <th>221</th>\n",
       "      <td>GEN-1029</td>\n",
       "      <td>GEN 1029; GEN1029; GEN-1029; HexaBody-DR5/DR5</td>\n",
       "      <td>GEN-1029 (HexaBody-DR5/DR5) is a mixture of tw...</td>\n",
       "      <td>Phase II Clinical Trial</td>\n",
       "      <td>Active</td>\n",
       "      <td>Cancer, brain\\nCancer, brain\\nCancer, brain\\nC...</td>\n",
       "      <td>Genmab\\nGenmab\\niDD biotech\\niDD biotech</td>\n",
       "      <td>Licensee\\nLicensee\\nOriginator\\nOriginator</td>\n",
       "      <td>Denmark\\nDenmark\\nFrance\\nFrance</td>\n",
       "      <td>\\n \\n \\n</td>\n",
       "      <td>...</td>\n",
       "      <td>NaN</td>\n",
       "      <td>NaN</td>\n",
       "      <td>NaN</td>\n",
       "      <td></td>\n",
       "      <td>Agreements\\n________________\\n \\nGenmab\\nWorld...</td>\n",
       "      <td></td>\n",
       "      <td>Cancer, solid, unspecified\\nGenmab\\nIt is in a...</td>\n",
       "      <td></td>\n",
       "      <td>In vivo\\nIn a colorectal cancer xenograft mode...</td>\n",
       "      <td>https://citeline.informa.com/drugs/details/112...</td>\n",
       "    </tr>\n",
       "    <tr>\n",
       "      <th>361</th>\n",
       "      <td>ONC-201, Oncoceutics</td>\n",
       "      <td>anticancer therapy, Oncoceutics; ONC 201, Onco...</td>\n",
       "      <td>ONC-201 (TIC-10) is an oral small-molecule com...</td>\n",
       "      <td>Phase II Clinical Trial</td>\n",
       "      <td>Active</td>\n",
       "      <td>Cancer, brain\\nCancer, brain</td>\n",
       "      <td>Ohara Pharmaceutical\\nOncoceutics</td>\n",
       "      <td>Licensee\\nOriginator</td>\n",
       "      <td>Japan\\nUSA</td>\n",
       "      <td>\\nPA</td>\n",
       "      <td>...</td>\n",
       "      <td>4.0</td>\n",
       "      <td>US8673923\\nUS9265765\\nUS9072744\\nUS9061032\\nUS...</td>\n",
       "      <td>US 2011/04/29\\nUS 2013/03/13\\nUS 2011/04/29\\nU...</td>\n",
       "      <td>Orphan Drug Status\\n________________\\n \\nCance...</td>\n",
       "      <td>Agreements\\n________________\\n \\nNational Brai...</td>\n",
       "      <td>Phase III programmes directed towards an FDA a...</td>\n",
       "      <td>Cancer, adrenal; Cancer, neuroendocrine, unspe...</td>\n",
       "      <td>A dose intensification trial to systematically...</td>\n",
       "      <td>In proof-of-concept studies, inhibition of sel...</td>\n",
       "      <td>https://citeline.informa.com/drugs/details/621...</td>\n",
       "    </tr>\n",
       "  </tbody>\n",
       "</table>\n",
       "<p>2 rows × 55 columns</p>\n",
       "</div>"
      ],
      "text/plain": [
       "        Generic Drug Name                                         Drug Names  \\\n",
       "221              GEN-1029      GEN 1029; GEN1029; GEN-1029; HexaBody-DR5/DR5   \n",
       "361  ONC-201, Oncoceutics  anticancer therapy, Oncoceutics; ONC 201, Onco...   \n",
       "\n",
       "                                               Summary  \\\n",
       "221  GEN-1029 (HexaBody-DR5/DR5) is a mixture of tw...   \n",
       "361  ONC-201 (TIC-10) is an oral small-molecule com...   \n",
       "\n",
       "               Global Status Development Status  \\\n",
       "221  Phase II Clinical Trial             Active   \n",
       "361  Phase II Clinical Trial             Active   \n",
       "\n",
       "                                          Drug Disease  \\\n",
       "221  Cancer, brain\\nCancer, brain\\nCancer, brain\\nC...   \n",
       "361                       Cancer, brain\\nCancer, brain   \n",
       "\n",
       "                                      Company  \\\n",
       "221  Genmab\\nGenmab\\niDD biotech\\niDD biotech   \n",
       "361         Ohara Pharmaceutical\\nOncoceutics   \n",
       "\n",
       "                          Originator / Licensee  \\\n",
       "221  Licensee\\nLicensee\\nOriginator\\nOriginator   \n",
       "361                        Licensee\\nOriginator   \n",
       "\n",
       "                   Company HQ Country Company HQ State  ... Rotatable Bonds  \\\n",
       "221  Denmark\\nDenmark\\nFrance\\nFrance        \\n \\n \\n   ...             NaN   \n",
       "361                        Japan\\nUSA             \\nPA  ...             4.0   \n",
       "\n",
       "                                         Patent Number  \\\n",
       "221                                                NaN   \n",
       "361  US8673923\\nUS9265765\\nUS9072744\\nUS9061032\\nUS...   \n",
       "\n",
       "                        Patent Priority Country & Date  \\\n",
       "221                                                NaN   \n",
       "361  US 2011/04/29\\nUS 2013/03/13\\nUS 2011/04/29\\nU...   \n",
       "\n",
       "                                             Marketing  \\\n",
       "221                                                      \n",
       "361  Orphan Drug Status\\n________________\\n \\nCance...   \n",
       "\n",
       "                                             Licensing  \\\n",
       "221  Agreements\\n________________\\n \\nGenmab\\nWorld...   \n",
       "361  Agreements\\n________________\\n \\nNational Brai...   \n",
       "\n",
       "                                             Phase III  \\\n",
       "221                                                      \n",
       "361  Phase III programmes directed towards an FDA a...   \n",
       "\n",
       "                                              Phase II  \\\n",
       "221  Cancer, solid, unspecified\\nGenmab\\nIt is in a...   \n",
       "361  Cancer, adrenal; Cancer, neuroendocrine, unspe...   \n",
       "\n",
       "                                               Phase I  \\\n",
       "221                                                      \n",
       "361  A dose intensification trial to systematically...   \n",
       "\n",
       "                                           Preclinical  \\\n",
       "221  In vivo\\nIn a colorectal cancer xenograft mode...   \n",
       "361  In proof-of-concept studies, inhibition of sel...   \n",
       "\n",
       "                                            Record URL  \n",
       "221  https://citeline.informa.com/drugs/details/112...  \n",
       "361  https://citeline.informa.com/drugs/details/621...  \n",
       "\n",
       "[2 rows x 55 columns]"
      ]
     },
     "execution_count": 28,
     "metadata": {},
     "output_type": "execute_result"
    }
   ],
   "source": [
    "table[table['Mechanism Of Action'].str.contains('TRAIL')]\n",
    "# Фильтрую содержимое столбца Mechanism Of Action чтобы там было слово TRAIL"
   ]
  },
  {
   "cell_type": "markdown",
   "metadata": {},
   "source": [
    "Всего 2 препарата удовлетворяют этому условию: на строчках 221 и 361"
   ]
  },
  {
   "cell_type": "code",
   "execution_count": 26,
   "metadata": {},
   "outputs": [
    {
     "data": {
      "text/plain": [
       "'GEN-1029 (HexaBody-DR5/DR5) is a mixture of two non-competing HexaBody targeting two distinct epitopes on death receptor 5 (DR5), under development by Genmab for the treatment of solid tumours. It was previously under development by iDD Biotech for the treatment of malignant glioma (Press release, iDD Biotech, 18 Mar 2015, http://ir.genmab.com/releasedetail.cfm?ReleaseID=902278; Company pipeline, Genmab, 6 Jul 2018, http://www.genmab.com/product-pipeline/products-in-development/hexabody-dr5-dr5#tab1; Company pipeline, Genmab, 14 Nov 2019, http://www.genmab.com/product-pipeline/products-in-development; Press release, Genmab, 6 Nov 2019, Page 14, https://ir.genmab.com/static-files/02eb5830-8771-43a6-a7b9-78f1b1b183ba).'"
      ]
     },
     "execution_count": 26,
     "metadata": {},
     "output_type": "execute_result"
    }
   ],
   "source": [
    "table.loc[221]['Summary']\n",
    "# Вывожу значение столбца саммари для первого препарата"
   ]
  },
  {
   "cell_type": "code",
   "execution_count": 30,
   "metadata": {},
   "outputs": [
    {
     "data": {
      "text/plain": [
       "'ONC-201 (TIC-10) is an oral small-molecule compound, under development by Oncoceutics for the treatment of cancers including solid tumours. It activates the gene for the secretion of TNF-related apoptosis-inducing ligands (TRAILs) (Press release, Oncoceutics, 29 May 2009; Life Sci Summit 2010 (New York), 2010, http://www.lifesciencessummit.org/2010/presenters/#oncoceutics; Press release, Pennsylvania Dept of Health, 14 Aug 2012, http://www.portal.health.state.pa.us/portal/server.pt?open=18&objID=1276764&mode=2; Nature, 7 Feb 2013, http://www.nature.com/news/small-molecule-drug-drives-cancer-cells-to-suicide-1.12385; Press release, Oncoceutics, 2 Oct 2013, http://oncoceutics.com/october-3-2013-oncoceutics-and-calvert-research-announce-investment-partnership-to-advance-onc201-to-an-ind-filing/; Press release, Oncoceutics, 16 Feb 2015, http://oncoceutics.com/article-in-cancer-research-identifies-biomarkers-and-combination-therapies-that-hone-path-to-onc201-clinical-success/). ONC-201 is also under development for the treatment of haematological cancers such as acute myeloid leukaemia, acute lymphoblastic leukaemia and myelodysplastic syndrome (Press release, Oncoceutics, 14 Dec 2015, http://oncoceutics.com/md-anderson-begins-acute-leukemia-trial-for-oncoceutics-onc201/; 28th EORTC-NCI-AACR (Germany), 2016, Abs 120, http://www.ecco-org.eu/~/media/Documents/ECCO%20sections/Events/ENA%202016/Scientific%20Programme/2016ENA_Abstract%20Book.pdf; Press release, Oncoceutics, 17 Apr 2016, http://oncoceutics.com/evidence-of-d2-like-dopamine-receptor-antagonism-by-onc201-to-be-presented-at-2016-aacr-meeting/; Company Pipeline, Oncoceutics, 15 Oct 2018, http://oncoceutics.com/pipeline/).'"
      ]
     },
     "execution_count": 30,
     "metadata": {},
     "output_type": "execute_result"
    }
   ],
   "source": [
    "table.loc[361]['Summary']\n",
    "# Вывожу значение столбца саммари для второго препарата"
   ]
  },
  {
   "cell_type": "code",
   "execution_count": 29,
   "metadata": {},
   "outputs": [
    {
     "data": {
      "text/html": [
       "<div>\n",
       "<style scoped>\n",
       "    .dataframe tbody tr th:only-of-type {\n",
       "        vertical-align: middle;\n",
       "    }\n",
       "\n",
       "    .dataframe tbody tr th {\n",
       "        vertical-align: top;\n",
       "    }\n",
       "\n",
       "    .dataframe thead th {\n",
       "        text-align: right;\n",
       "    }\n",
       "</style>\n",
       "<table border=\"1\" class=\"dataframe\">\n",
       "  <thead>\n",
       "    <tr style=\"text-align: right;\">\n",
       "      <th></th>\n",
       "      <th>Generic Drug Name</th>\n",
       "      <th>Drug Names</th>\n",
       "      <th>Summary</th>\n",
       "      <th>Global Status</th>\n",
       "      <th>Development Status</th>\n",
       "      <th>Drug Disease</th>\n",
       "      <th>Company</th>\n",
       "      <th>Originator / Licensee</th>\n",
       "      <th>Company HQ Country</th>\n",
       "      <th>Company HQ State</th>\n",
       "      <th>...</th>\n",
       "      <th>Rotatable Bonds</th>\n",
       "      <th>Patent Number</th>\n",
       "      <th>Patent Priority Country &amp; Date</th>\n",
       "      <th>Marketing</th>\n",
       "      <th>Licensing</th>\n",
       "      <th>Phase III</th>\n",
       "      <th>Phase II</th>\n",
       "      <th>Phase I</th>\n",
       "      <th>Preclinical</th>\n",
       "      <th>Record URL</th>\n",
       "    </tr>\n",
       "  </thead>\n",
       "  <tbody>\n",
       "  </tbody>\n",
       "</table>\n",
       "<p>0 rows × 55 columns</p>\n",
       "</div>"
      ],
      "text/plain": [
       "Empty DataFrame\n",
       "Columns: [Generic Drug Name, Drug Names, Summary, Global Status, Development Status, Drug Disease, Company, Originator / Licensee, Company HQ Country, Company HQ State, Company (Subsidiary/Acquiree), Company (Subsidiary/Acquiree) HQ Country, Company (Subsidiary/Acquiree) HQ State, Drug Country, Drug Country Region, Current Status, Launch Year, Highest Status Reached, Partnering Availability: Country, Latest Change Date, Latest Change, Event Date, Event Type, Event Details, Therapeutic Class, Therapeutic Class Status, Mechanism Of Action, Delivery Route, Delivery Medium, Delivery Technology, Target, Target Entrez Gene ID, Target Family, Target EC Number, Trialtrove Trial Count, Origin, NCE, Molecular Weight, Chemical Name, Chemical structure (SMILES format), Molecular Formula, CAS Number, LogP, H Bond Donors, H Bond Acceptors, Rotatable Bonds, Patent Number, Patent Priority Country & Date, Marketing, Licensing, Phase III, Phase II, Phase I, Preclinical, Record URL]\n",
       "Index: []\n",
       "\n",
       "[0 rows x 55 columns]"
      ]
     },
     "execution_count": 29,
     "metadata": {},
     "output_type": "execute_result"
    }
   ],
   "source": [
    "table[table['Mechanism Of Action'].str.contains('nanoparticles')]\n",
    "# Если наличие наночастиц не указано в механизме действия, то где?"
   ]
  }
 ],
 "metadata": {
  "kernelspec": {
   "display_name": "Python 3",
   "language": "python",
   "name": "python3"
  },
  "language_info": {
   "codemirror_mode": {
    "name": "ipython",
    "version": 3
   },
   "file_extension": ".py",
   "mimetype": "text/x-python",
   "name": "python",
   "nbconvert_exporter": "python",
   "pygments_lexer": "ipython3",
   "version": "3.7.6"
  }
 },
 "nbformat": 4,
 "nbformat_minor": 4
}
